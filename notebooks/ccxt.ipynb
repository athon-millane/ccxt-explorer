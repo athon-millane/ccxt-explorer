{
 "cells": [
  {
   "cell_type": "code",
   "execution_count": 1,
   "metadata": {},
   "outputs": [
    {
     "name": "stdout",
     "output_type": "stream",
     "text": [
      "CPU times: user 1.15 s, sys: 260 ms, total: 1.41 s\n",
      "Wall time: 11.8 s\n"
     ]
    }
   ],
   "source": [
    "%%time\n",
    "EXCHANGE = 'huobi'\n",
    "PROJECT_ID = 'algebraic-ward-278316'\n",
    "\n",
    "# get top markets\n",
    "def top_markets(exchange=EXCHANGE):\n",
    "    # client\n",
    "    from coinpaprika import client as Coinpaprika\n",
    "    client = Coinpaprika.Client()\n",
    "    coins  = client.coins()\n",
    "    markets = client.exchange_markets(exchange, quotes=\"USD\")\n",
    "    return [m['pair'] for c in coins for m in markets if (m['base_currency_id'] == c['id'])]\n",
    "\n",
    "tm = top_markets()\n",
    "\n",
    "# pull ohlcv from ccxt\n",
    "import ccxt\n",
    "import numpy as np\n",
    "import pandas as pd\n",
    "dfs=[]\n",
    "for m in tm[:5]:\n",
    "    try:\n",
    "        df = pd.DataFrame(np.array(ccxt.huobipro().fetch_ohlcv(m, timeframe='1m', limit=60)),\\\n",
    "                     columns=['timestamp', 'open', 'high', 'low', 'close', 'volume'])\\\n",
    "                     .astype({'timestamp':'datetime64[ms]'})\n",
    "    except:\n",
    "        continue\n",
    "    df.insert(0, 'symbol', m, True)\n",
    "    dfs.append(df) \n",
    "ohlcv = pd.concat(dfs, axis=0)"
   ]
  },
  {
   "cell_type": "code",
   "execution_count": null,
   "metadata": {},
   "outputs": [],
   "source": [
    "import pandas_gbq\n",
    "pandas_gbq.to_gbq(ohlcv, f'ohlcv.{EXCHANGE}', project_id=PROJECT_ID, if_exists='append')"
   ]
  }
 ],
 "metadata": {
  "kernelspec": {
   "display_name": "Python (covidlib)",
   "language": "python",
   "name": "venv"
  },
  "language_info": {
   "codemirror_mode": {
    "name": "ipython",
    "version": 3
   },
   "file_extension": ".py",
   "mimetype": "text/x-python",
   "name": "python",
   "nbconvert_exporter": "python",
   "pygments_lexer": "ipython3",
   "version": "3.6.8"
  }
 },
 "nbformat": 4,
 "nbformat_minor": 4
}
